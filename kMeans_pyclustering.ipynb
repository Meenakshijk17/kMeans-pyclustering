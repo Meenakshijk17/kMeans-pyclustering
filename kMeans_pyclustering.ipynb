{
 "cells": [
  {
   "cell_type": "code",
   "execution_count": 1,
   "id": "9dd4a9c0",
   "metadata": {},
   "outputs": [],
   "source": [
    "import pandas as pd\n",
    "import numpy as np\n",
    "import seaborn as sns\n",
    "import matplotlib.pyplot as plt\n",
    "%matplotlib inline\n",
    "\n",
    "import warnings\n",
    "warnings.filterwarnings('ignore')"
   ]
  },
  {
   "cell_type": "code",
   "execution_count": 2,
   "id": "bc993cef",
   "metadata": {},
   "outputs": [
    {
     "data": {
      "text/html": [
       "<div>\n",
       "<style scoped>\n",
       "    .dataframe tbody tr th:only-of-type {\n",
       "        vertical-align: middle;\n",
       "    }\n",
       "\n",
       "    .dataframe tbody tr th {\n",
       "        vertical-align: top;\n",
       "    }\n",
       "\n",
       "    .dataframe thead th {\n",
       "        text-align: right;\n",
       "    }\n",
       "</style>\n",
       "<table border=\"1\" class=\"dataframe\">\n",
       "  <thead>\n",
       "    <tr style=\"text-align: right;\">\n",
       "      <th></th>\n",
       "      <th>CustomerID,Genre,Age,Annual_Income_(k$),Spending_Score</th>\n",
       "    </tr>\n",
       "  </thead>\n",
       "  <tbody>\n",
       "    <tr>\n",
       "      <th>0</th>\n",
       "      <td>1,Male,19,15,39</td>\n",
       "    </tr>\n",
       "    <tr>\n",
       "      <th>1</th>\n",
       "      <td>2,Male,21,15,81</td>\n",
       "    </tr>\n",
       "    <tr>\n",
       "      <th>2</th>\n",
       "      <td>3,Female,20,16,6</td>\n",
       "    </tr>\n",
       "    <tr>\n",
       "      <th>3</th>\n",
       "      <td>4,Female,23,16,77</td>\n",
       "    </tr>\n",
       "    <tr>\n",
       "      <th>4</th>\n",
       "      <td>5,Female,31,17,40</td>\n",
       "    </tr>\n",
       "  </tbody>\n",
       "</table>\n",
       "</div>"
      ],
      "text/plain": [
       "  CustomerID,Genre,Age,Annual_Income_(k$),Spending_Score\n",
       "0                                    1,Male,19,15,39    \n",
       "1                                    2,Male,21,15,81    \n",
       "2                                   3,Female,20,16,6    \n",
       "3                                  4,Female,23,16,77    \n",
       "4                                  5,Female,31,17,40    "
      ]
     },
     "execution_count": 2,
     "metadata": {},
     "output_type": "execute_result"
    }
   ],
   "source": [
    "df1 = pd.read_csv('Mall_Customers.csv')\n",
    "df1.head()"
   ]
  },
  {
   "cell_type": "code",
   "execution_count": 3,
   "id": "9fd10219",
   "metadata": {},
   "outputs": [
    {
     "data": {
      "text/plain": [
       "(200, 1)"
      ]
     },
     "execution_count": 3,
     "metadata": {},
     "output_type": "execute_result"
    }
   ],
   "source": [
    "df1.shape"
   ]
  },
  {
   "cell_type": "code",
   "execution_count": 4,
   "id": "48a74369",
   "metadata": {},
   "outputs": [
    {
     "name": "stdout",
     "output_type": "stream",
     "text": [
      "(200, 5)\n"
     ]
    },
    {
     "data": {
      "text/html": [
       "<div>\n",
       "<style scoped>\n",
       "    .dataframe tbody tr th:only-of-type {\n",
       "        vertical-align: middle;\n",
       "    }\n",
       "\n",
       "    .dataframe tbody tr th {\n",
       "        vertical-align: top;\n",
       "    }\n",
       "\n",
       "    .dataframe thead th {\n",
       "        text-align: right;\n",
       "    }\n",
       "</style>\n",
       "<table border=\"1\" class=\"dataframe\">\n",
       "  <thead>\n",
       "    <tr style=\"text-align: right;\">\n",
       "      <th></th>\n",
       "      <th>CustomerID</th>\n",
       "      <th>Genre</th>\n",
       "      <th>Age</th>\n",
       "      <th>Annual_Income_(k$)</th>\n",
       "      <th>Spending_Score</th>\n",
       "    </tr>\n",
       "  </thead>\n",
       "  <tbody>\n",
       "    <tr>\n",
       "      <th>0</th>\n",
       "      <td>1</td>\n",
       "      <td>Male</td>\n",
       "      <td>19</td>\n",
       "      <td>15</td>\n",
       "      <td>39</td>\n",
       "    </tr>\n",
       "    <tr>\n",
       "      <th>1</th>\n",
       "      <td>2</td>\n",
       "      <td>Male</td>\n",
       "      <td>21</td>\n",
       "      <td>15</td>\n",
       "      <td>81</td>\n",
       "    </tr>\n",
       "    <tr>\n",
       "      <th>2</th>\n",
       "      <td>3</td>\n",
       "      <td>Female</td>\n",
       "      <td>20</td>\n",
       "      <td>16</td>\n",
       "      <td>6</td>\n",
       "    </tr>\n",
       "    <tr>\n",
       "      <th>3</th>\n",
       "      <td>4</td>\n",
       "      <td>Female</td>\n",
       "      <td>23</td>\n",
       "      <td>16</td>\n",
       "      <td>77</td>\n",
       "    </tr>\n",
       "    <tr>\n",
       "      <th>4</th>\n",
       "      <td>5</td>\n",
       "      <td>Female</td>\n",
       "      <td>31</td>\n",
       "      <td>17</td>\n",
       "      <td>40</td>\n",
       "    </tr>\n",
       "  </tbody>\n",
       "</table>\n",
       "</div>"
      ],
      "text/plain": [
       "  CustomerID   Genre Age Annual_Income_(k$) Spending_Score\n",
       "0          1    Male  19                 15             39\n",
       "1          2    Male  21                 15             81\n",
       "2          3  Female  20                 16              6\n",
       "3          4  Female  23                 16             77\n",
       "4          5  Female  31                 17             40"
      ]
     },
     "execution_count": 4,
     "metadata": {},
     "output_type": "execute_result"
    }
   ],
   "source": [
    "data = []\n",
    "for row in df1.iterrows():\n",
    "    data.append(row[-1][0].split(\",\"))\n",
    "cols = df1.columns[0].split(\",\")\n",
    "df1 = pd.DataFrame(data, columns=cols)\n",
    "print(df1.shape)\n",
    "df1.head()"
   ]
  },
  {
   "cell_type": "code",
   "execution_count": 5,
   "id": "2fcfd107",
   "metadata": {},
   "outputs": [
    {
     "name": "stdout",
     "output_type": "stream",
     "text": [
      "<class 'pandas.core.frame.DataFrame'>\n",
      "RangeIndex: 200 entries, 0 to 199\n",
      "Data columns (total 5 columns):\n",
      " #   Column              Non-Null Count  Dtype \n",
      "---  ------              --------------  ----- \n",
      " 0   CustomerID          200 non-null    object\n",
      " 1   Genre               200 non-null    object\n",
      " 2   Age                 200 non-null    object\n",
      " 3   Annual_Income_(k$)  200 non-null    object\n",
      " 4   Spending_Score      200 non-null    object\n",
      "dtypes: object(5)\n",
      "memory usage: 7.9+ KB\n"
     ]
    }
   ],
   "source": [
    "df1.info()"
   ]
  },
  {
   "cell_type": "code",
   "execution_count": 6,
   "id": "83fea0a9",
   "metadata": {},
   "outputs": [
    {
     "data": {
      "text/plain": [
       "CustomerID            0\n",
       "Genre                 0\n",
       "Age                   0\n",
       "Annual_Income_(k$)    0\n",
       "Spending_Score        0\n",
       "dtype: int64"
      ]
     },
     "execution_count": 6,
     "metadata": {},
     "output_type": "execute_result"
    }
   ],
   "source": [
    "df1.isna().sum()"
   ]
  },
  {
   "cell_type": "code",
   "execution_count": 7,
   "id": "1cbe17e5",
   "metadata": {},
   "outputs": [
    {
     "data": {
      "text/plain": [
       "(200, 5)"
      ]
     },
     "execution_count": 7,
     "metadata": {},
     "output_type": "execute_result"
    }
   ],
   "source": [
    "df1.drop_duplicates().shape"
   ]
  },
  {
   "cell_type": "code",
   "execution_count": 8,
   "id": "a35f453a",
   "metadata": {},
   "outputs": [
    {
     "data": {
      "text/plain": [
       "array(['Male', 'Female'], dtype=object)"
      ]
     },
     "execution_count": 8,
     "metadata": {},
     "output_type": "execute_result"
    }
   ],
   "source": [
    "df1.Genre.unique()"
   ]
  },
  {
   "cell_type": "code",
   "execution_count": 9,
   "id": "36f50044",
   "metadata": {},
   "outputs": [
    {
     "data": {
      "text/html": [
       "<div>\n",
       "<style scoped>\n",
       "    .dataframe tbody tr th:only-of-type {\n",
       "        vertical-align: middle;\n",
       "    }\n",
       "\n",
       "    .dataframe tbody tr th {\n",
       "        vertical-align: top;\n",
       "    }\n",
       "\n",
       "    .dataframe thead th {\n",
       "        text-align: right;\n",
       "    }\n",
       "</style>\n",
       "<table border=\"1\" class=\"dataframe\">\n",
       "  <thead>\n",
       "    <tr style=\"text-align: right;\">\n",
       "      <th></th>\n",
       "      <th>Genre</th>\n",
       "      <th>Age</th>\n",
       "      <th>Annual_Income_(k$)</th>\n",
       "      <th>Spending_Score</th>\n",
       "    </tr>\n",
       "  </thead>\n",
       "  <tbody>\n",
       "    <tr>\n",
       "      <th>0</th>\n",
       "      <td>0</td>\n",
       "      <td>19.0</td>\n",
       "      <td>15.0</td>\n",
       "      <td>39.0</td>\n",
       "    </tr>\n",
       "    <tr>\n",
       "      <th>1</th>\n",
       "      <td>0</td>\n",
       "      <td>21.0</td>\n",
       "      <td>15.0</td>\n",
       "      <td>81.0</td>\n",
       "    </tr>\n",
       "    <tr>\n",
       "      <th>2</th>\n",
       "      <td>1</td>\n",
       "      <td>20.0</td>\n",
       "      <td>16.0</td>\n",
       "      <td>6.0</td>\n",
       "    </tr>\n",
       "    <tr>\n",
       "      <th>3</th>\n",
       "      <td>1</td>\n",
       "      <td>23.0</td>\n",
       "      <td>16.0</td>\n",
       "      <td>77.0</td>\n",
       "    </tr>\n",
       "    <tr>\n",
       "      <th>4</th>\n",
       "      <td>1</td>\n",
       "      <td>31.0</td>\n",
       "      <td>17.0</td>\n",
       "      <td>40.0</td>\n",
       "    </tr>\n",
       "  </tbody>\n",
       "</table>\n",
       "</div>"
      ],
      "text/plain": [
       "   Genre   Age  Annual_Income_(k$)  Spending_Score\n",
       "0      0  19.0                15.0            39.0\n",
       "1      0  21.0                15.0            81.0\n",
       "2      1  20.0                16.0             6.0\n",
       "3      1  23.0                16.0            77.0\n",
       "4      1  31.0                17.0            40.0"
      ]
     },
     "execution_count": 9,
     "metadata": {},
     "output_type": "execute_result"
    }
   ],
   "source": [
    "df1['Genre'] = df1['Genre'].map({'Male': 0, 'Female': 1})\n",
    "for col in df1.columns:\n",
    "    if col not in ('Genre', 'CustomerID'):\n",
    "        df1[col] = df1[col].astype('float')\n",
    "X = df1.drop('CustomerID', axis=1)\n",
    "X.head()"
   ]
  },
  {
   "cell_type": "code",
   "execution_count": 10,
   "id": "6d77bcda",
   "metadata": {},
   "outputs": [],
   "source": [
    "# to find #clusters k using kmeans and elbow method\n",
    "from sklearn.cluster import KMeans\n",
    "wcss = []\n",
    "for k in range(1, 16):\n",
    "    kmeans = KMeans(n_clusters=k, init='k-means++', random_state = 17)\n",
    "    kmeans.fit(X)\n",
    "    wcss.append(kmeans.inertia_)\n"
   ]
  },
  {
   "cell_type": "code",
   "execution_count": 11,
   "id": "630a14fa",
   "metadata": {},
   "outputs": [
    {
     "data": {
      "image/png": "[encoded data removed]",
      "text/plain": [
       "<Figure size 432x288 with 1 Axes>"
      ]
     },
     "metadata": {
      "needs_background": "light"
     },
     "output_type": "display_data"
    }
   ],
   "source": [
    "plt.plot(range(1, 16), wcss)\n",
    "plt.title('The Elbow Method')\n",
    "plt.xlabel('Number of clusters')\n",
    "plt.ylabel('Within Cluster Sum of Squares')\n",
    "plt.show()\n"
   ]
  },
  {
   "cell_type": "code",
   "execution_count": 12,
   "id": "3909f744",
   "metadata": {},
   "outputs": [
    {
     "data": {
      "image/png": "[encoded data removed]",
      "text/plain": [
       "<Figure size 576x396 with 2 Axes>"
      ]
     },
     "metadata": {},
     "output_type": "display_data"
    },
    {
     "data": {
      "text/plain": [
       "<AxesSubplot:title={'center':'Distortion Score Elbow for KMeans Clustering'}, xlabel='k', ylabel='distortion score'>"
      ]
     },
     "execution_count": 12,
     "metadata": {},
     "output_type": "execute_result"
    }
   ],
   "source": [
    "from yellowbrick.cluster import KElbowVisualizer\n",
    "# import yellowbrick\n",
    "model = KMeans()\n",
    "visualizer = KElbowVisualizer(model, k=(1,15), timings= True)\n",
    "visualizer.fit(X) # Fit data to visualizer\n",
    "visualizer.show()"
   ]
  },
  {
   "cell_type": "markdown",
   "id": "d648fd29",
   "metadata": {},
   "source": [
    "We can conclude that k=5 is an optimal number of clusters for the data."
   ]
  },
  {
   "cell_type": "markdown",
   "id": "3a8c5cf5",
   "metadata": {},
   "source": [
    "## k-Means using Manhattan distance"
   ]
  },
  {
   "cell_type": "markdown",
   "id": "857d76bb",
   "metadata": {},
   "source": [
    "The kMeans function provided by scikit-learn does not have the option to choose the distance metric. It uses only the Euclidean distance for the computations. \n",
    "Libraries like pyclustering (https://github.com/annoviko/pyclustering) offers this functionality to choose the distance metric. "
   ]
  },
  {
   "cell_type": "code",
   "execution_count": 13,
   "id": "ba7c2705",
   "metadata": {},
   "outputs": [
    {
     "name": "stdout",
     "output_type": "stream",
     "text": [
      "Requirement already satisfied: pyclustering in c:\\users\\meenakshi\\anaconda3\\lib\\site-packages (0.10.1.2)\n",
      "Requirement already satisfied: scipy>=1.1.0 in c:\\users\\meenakshi\\anaconda3\\lib\\site-packages (from pyclustering) (1.6.2)\n",
      "Requirement already satisfied: matplotlib>=3.0.0 in c:\\users\\meenakshi\\anaconda3\\lib\\site-packages (from pyclustering) (3.3.4)\n",
      "Requirement already satisfied: numpy>=1.15.2 in c:\\users\\meenakshi\\anaconda3\\lib\\site-packages (from pyclustering) (1.20.1)\n",
      "Requirement already satisfied: Pillow>=5.2.0 in c:\\users\\meenakshi\\anaconda3\\lib\\site-packages (from pyclustering) (8.2.0)\n",
      "Requirement already satisfied: cycler>=0.10 in c:\\users\\meenakshi\\anaconda3\\lib\\site-packages (from matplotlib>=3.0.0->pyclustering) (0.10.0)\n",
      "Requirement already satisfied: python-dateutil>=2.1 in c:\\users\\meenakshi\\anaconda3\\lib\\site-packages (from matplotlib>=3.0.0->pyclustering) (2.8.1)\n",
      "Requirement already satisfied: kiwisolver>=1.0.1 in c:\\users\\meenakshi\\anaconda3\\lib\\site-packages (from matplotlib>=3.0.0->pyclustering) (1.3.1)\n",
      "Requirement already satisfied: pyparsing!=2.0.4,!=2.1.2,!=2.1.6,>=2.0.3 in c:\\users\\meenakshi\\anaconda3\\lib\\site-packages (from matplotlib>=3.0.0->pyclustering) (2.4.7)\n",
      "Requirement already satisfied: six in c:\\users\\meenakshi\\anaconda3\\lib\\site-packages (from cycler>=0.10->matplotlib>=3.0.0->pyclustering) (1.15.0)\n"
     ]
    }
   ],
   "source": [
    "!pip install pyclustering"
   ]
  },
  {
   "cell_type": "code",
   "execution_count": 14,
   "id": "f830590d",
   "metadata": {},
   "outputs": [],
   "source": [
    "from pyclustering.cluster.kmeans import kmeans\n",
    "from pyclustering.cluster.center_initializer import random_center_initializer, kmeans_plusplus_initializer\n",
    "from pyclustering.cluster.encoder import type_encoding, cluster_encoder\n",
    "from pyclustering.utils.metric import distance_metric, type_metric\n",
    "\n",
    "# initial_centers = random_center_initializer(X, 5, random_state=17).initialize()\n",
    "initial_centers = kmeans_plusplus_initializer(X, 5, random_state=17).initialize()\n",
    "kmeans_instance = kmeans(X, initial_centers, metric=distance_metric(type_metric.MANHATTAN))\n",
    "kmeans_instance.process()\n",
    "pyClusters = kmeans_instance.get_clusters()\n",
    "pyCenters = kmeans_instance.get_centers()\n",
    "pyEncoding = kmeans_instance.get_cluster_encoding()\n",
    "pyEncoder = cluster_encoder(pyEncoding, pyClusters, X)\n",
    "pyLabels = pyEncoder.set_encoding(0).get_clusters()"
   ]
  },
  {
   "cell_type": "code",
   "execution_count": 15,
   "id": "9fc06b83",
   "metadata": {},
   "outputs": [
    {
     "data": {
      "text/html": [
       "<div>\n",
       "<style scoped>\n",
       "    .dataframe tbody tr th:only-of-type {\n",
       "        vertical-align: middle;\n",
       "    }\n",
       "\n",
       "    .dataframe tbody tr th {\n",
       "        vertical-align: top;\n",
       "    }\n",
       "\n",
       "    .dataframe thead th {\n",
       "        text-align: right;\n",
       "    }\n",
       "</style>\n",
       "<table border=\"1\" class=\"dataframe\">\n",
       "  <thead>\n",
       "    <tr style=\"text-align: right;\">\n",
       "      <th></th>\n",
       "      <th>CustomerID</th>\n",
       "      <th>Genre</th>\n",
       "      <th>Age</th>\n",
       "      <th>Annual_Income_(k$)</th>\n",
       "      <th>Spending_Score</th>\n",
       "      <th>Labels</th>\n",
       "    </tr>\n",
       "  </thead>\n",
       "  <tbody>\n",
       "    <tr>\n",
       "      <th>0</th>\n",
       "      <td>1</td>\n",
       "      <td>0</td>\n",
       "      <td>19.0</td>\n",
       "      <td>15.0</td>\n",
       "      <td>39.0</td>\n",
       "      <td>3</td>\n",
       "    </tr>\n",
       "    <tr>\n",
       "      <th>1</th>\n",
       "      <td>2</td>\n",
       "      <td>0</td>\n",
       "      <td>21.0</td>\n",
       "      <td>15.0</td>\n",
       "      <td>81.0</td>\n",
       "      <td>3</td>\n",
       "    </tr>\n",
       "    <tr>\n",
       "      <th>2</th>\n",
       "      <td>3</td>\n",
       "      <td>1</td>\n",
       "      <td>20.0</td>\n",
       "      <td>16.0</td>\n",
       "      <td>6.0</td>\n",
       "      <td>1</td>\n",
       "    </tr>\n",
       "    <tr>\n",
       "      <th>3</th>\n",
       "      <td>4</td>\n",
       "      <td>1</td>\n",
       "      <td>23.0</td>\n",
       "      <td>16.0</td>\n",
       "      <td>77.0</td>\n",
       "      <td>3</td>\n",
       "    </tr>\n",
       "    <tr>\n",
       "      <th>4</th>\n",
       "      <td>5</td>\n",
       "      <td>1</td>\n",
       "      <td>31.0</td>\n",
       "      <td>17.0</td>\n",
       "      <td>40.0</td>\n",
       "      <td>1</td>\n",
       "    </tr>\n",
       "  </tbody>\n",
       "</table>\n",
       "</div>"
      ],
      "text/plain": [
       "  CustomerID  Genre   Age  Annual_Income_(k$)  Spending_Score  Labels\n",
       "0          1      0  19.0                15.0            39.0       3\n",
       "1          2      0  21.0                15.0            81.0       3\n",
       "2          3      1  20.0                16.0             6.0       1\n",
       "3          4      1  23.0                16.0            77.0       3\n",
       "4          5      1  31.0                17.0            40.0       1"
      ]
     },
     "execution_count": 15,
     "metadata": {},
     "output_type": "execute_result"
    }
   ],
   "source": [
    "# Storing the cluster number assigned by k-means as labels\n",
    "df1['Labels'] = pyLabels\n",
    "df1.head()"
   ]
  },
  {
   "cell_type": "code",
   "execution_count": 16,
   "id": "27234b0c",
   "metadata": {},
   "outputs": [
    {
     "data": {
      "text/plain": [
       "4    79\n",
       "0    39\n",
       "2    36\n",
       "3    24\n",
       "1    22\n",
       "Name: Labels, dtype: int64"
      ]
     },
     "execution_count": 16,
     "metadata": {},
     "output_type": "execute_result"
    }
   ],
   "source": [
    "df1['Labels'].value_counts()"
   ]
  },
  {
   "cell_type": "markdown",
   "id": "934753c0",
   "metadata": {},
   "source": [
    "## Performing classification"
   ]
  },
  {
   "cell_type": "code",
   "execution_count": 17,
   "id": "3b620e21",
   "metadata": {},
   "outputs": [],
   "source": [
    "from sklearn.model_selection import train_test_split\n",
    "\n",
    "X = df1.drop(['CustomerID', 'Labels'], axis=1)\n",
    "y = df1.loc[:, 'Labels']\n",
    "X_train, X_test, y_train, y_test = train_test_split(X, y, train_size=0.8, random_state=17, stratify=y)"
   ]
  },
  {
   "cell_type": "code",
   "execution_count": 18,
   "id": "03db0314",
   "metadata": {},
   "outputs": [],
   "source": [
    "# Logistic Regression\n",
    "from sklearn.linear_model import LogisticRegression\n",
    "\n",
    "lr = LogisticRegression(random_state=17).fit(X_train, y_train)\n",
    "y_pred_lr = lr.predict(X_test)"
   ]
  },
  {
   "cell_type": "code",
   "execution_count": 19,
   "id": "d21907dd",
   "metadata": {},
   "outputs": [],
   "source": [
    "# Decision Tree Classifier\n",
    "from sklearn.tree import DecisionTreeClassifier\n",
    "\n",
    "dt = DecisionTreeClassifier(max_depth=2, random_state=17).fit(X_train, y_train)\n",
    "y_pred_dt = dt.predict(X_test)"
   ]
  },
  {
   "cell_type": "code",
   "execution_count": 20,
   "id": "d1f8ba22",
   "metadata": {},
   "outputs": [],
   "source": [
    "# Decision Tree Classifier\n",
    "from sklearn.ensemble import RandomForestClassifier\n",
    "\n",
    "rf = RandomForestClassifier(max_depth=2, random_state=17).fit(X_train, y_train)\n",
    "y_pred_rf = rf.predict(X_test)"
   ]
  },
  {
   "cell_type": "code",
   "execution_count": 21,
   "id": "cfaac141",
   "metadata": {},
   "outputs": [],
   "source": [
    "# Gaussian Naive Bayes\n",
    "from sklearn.naive_bayes import GaussianNB\n",
    "\n",
    "gnb = GaussianNB().fit(X_train, y_train)\n",
    "y_pred_gnb = gnb.predict(X_test)"
   ]
  },
  {
   "cell_type": "code",
   "execution_count": 22,
   "id": "208f2cc9",
   "metadata": {},
   "outputs": [],
   "source": [
    "from sklearn.metrics import accuracy_score, precision_score, recall_score, roc_auc_score\n",
    "from sklearn.metrics import confusion_matrix, classification_report\n",
    "\n",
    "def model_evaluation(y_true=y_test, X=X_test):\n",
    "    algo_names = ['LR ', 'DT ', 'RF ', 'GNB']\n",
    "    models = [lr, dt, rf, gnb]\n",
    "    for algo_i in range(len(algo_names)):\n",
    "        algo_name = algo_names[algo_i]\n",
    "        model = models[algo_i]\n",
    "        print(\"Accuracy of \", algo_name, \": \", round(accuracy_score(y_true, model.predict(X)), 3), end=';     ')\n",
    "        print(\"Classification Error of \", algo_name, \": \", round(1-accuracy_score(y_true, model.predict(X)), 3))\n",
    "    print()\n",
    "    \n",
    "    for algo_i in range(len(algo_names)):\n",
    "        algo_name = algo_names[algo_i]\n",
    "        model = models[algo_i]\n",
    "        # the scores for each class\n",
    "        print(\"Classwise precision of \", algo_name, \": \", precision_score(y_true, model.predict(X), average=None)) \n",
    "    print()\n",
    "    \n",
    "    for algo_i in range(len(algo_names)):\n",
    "        algo_name = algo_names[algo_i]\n",
    "        model = models[algo_i]\n",
    "        # calculated for each label and a support-weighted mean is taken\n",
    "        print(\"Weighted precision of \", algo_name, \": \", round(precision_score(y_true, model.predict(X), average='weighted'), 3))\n",
    "    print()\n",
    "    \n",
    "    for algo_i in range(len(algo_names)):\n",
    "        algo_name = algo_names[algo_i]\n",
    "        model = models[algo_i]\n",
    "        # calculated for each label and an unweighted mean is taken\n",
    "        print(\"Macro precision of \", algo_name, \": \", round(precision_score(y_true, model.predict(X), average='macro'), 3))\n",
    "    print()\n",
    "    \n",
    "    for algo_i in range(len(algo_names)):\n",
    "        algo_name = algo_names[algo_i]\n",
    "        model = models[algo_i]\n",
    "        # calculated globally by counting the total TPs, FNs and FPs\n",
    "        print(\"Micro precision of \", algo_name, \": \", round(precision_score(y_true, model.predict(X), average='micro'), 3))\n",
    "    print()\n",
    "    \n",
    "    for algo_i in range(len(algo_names)):\n",
    "        algo_name = algo_names[algo_i]\n",
    "        model = models[algo_i]\n",
    "        # the scores for each class\n",
    "        print(\"Classwise recall of \", algo_name, \": \", recall_score(y_true, model.predict(X), average=None)) \n",
    "    print()\n",
    "    \n",
    "    for algo_i in range(len(algo_names)):\n",
    "        algo_name = algo_names[algo_i]\n",
    "        model = models[algo_i]\n",
    "        # calculated for each label and a support-weighted mean is taken\n",
    "        print(\"Weighted recall of \", algo_name, \": \", round(recall_score(y_true, model.predict(X), average='weighted'), 3))\n",
    "    print()\n",
    "    \n",
    "    for algo_i in range(len(algo_names)):\n",
    "        algo_name = algo_names[algo_i]\n",
    "        model = models[algo_i]\n",
    "        # calculated for each label and an unweighted mean is taken\n",
    "        print(\"Macro recall of \", algo_name, \": \", round(recall_score(y_true, model.predict(X), average='macro'), 3))\n",
    "    print()\n",
    "    \n",
    "    for algo_i in range(len(algo_names)):\n",
    "        algo_name = algo_names[algo_i]\n",
    "        model = models[algo_i]\n",
    "        # calculated globally by counting the total TPs, FNs and FPs\n",
    "        print(\"Micro recall of \", algo_name, \": \", round(recall_score(y_true, model.predict(X), average='micro'), 3))\n",
    "    print()\n",
    "    \n",
    "    \n",
    "    # calculated for each label and a support-weighted mean is taken\n",
    "    for algo_i in range(len(algo_names)):\n",
    "        algo_name = algo_names[algo_i]\n",
    "        model = models[algo_i]\n",
    "        # the scores for each class\n",
    "        print(\"(OVR) Classwise AUC of \", algo_name, \": \", roc_auc_score(y_true, model.predict_proba(X), multi_class='ovr', average=None)) \n",
    "    print()\n",
    "    \n",
    "    for algo_i in range(len(algo_names)):\n",
    "        algo_name = algo_names[algo_i]\n",
    "        model = models[algo_i]\n",
    "        # calculated for each label and a support-weighted mean is taken\n",
    "        print(\"(OVR) Weighted AUC of \", algo_name, \": \", round(roc_auc_score(y_true, model.predict_proba(X), multi_class='ovr', average='weighted'), 3))\n",
    "    print()\n",
    "    \n",
    "    for algo_i in range(len(algo_names)):\n",
    "        algo_name = algo_names[algo_i]\n",
    "        model = models[algo_i]\n",
    "        # calculated for each label and an unweighted mean is taken\n",
    "        print(\"(OVR) Macro AUC of \", algo_name, \": \", round(roc_auc_score(y_true, model.predict_proba(X), multi_class='ovr', average='macro'), 3))\n",
    "    print()\n",
    "    \n",
    "    \n",
    "    # average AUC of all possible pairwise combinations of classes\n",
    "    for algo_i in range(len(algo_names)):\n",
    "        algo_name = algo_names[algo_i]\n",
    "        model = models[algo_i]\n",
    "        # calculated for each label and a support-weighted mean is taken\n",
    "        print(\"(OVO) Weighted AUC of \", algo_name, \": \", round(roc_auc_score(y_true, model.predict_proba(X), multi_class='ovo', average='weighted'), 3))\n",
    "    print()\n",
    "    \n",
    "    for algo_i in range(len(algo_names)):\n",
    "        algo_name = algo_names[algo_i]\n",
    "        model = models[algo_i]\n",
    "        # calculated for each label and an unweighted mean is taken\n",
    "        print(\"(OVO) Macro AUC of \", algo_name, \": \", round(roc_auc_score(y_true, model.predict_proba(X), multi_class='ovo', average='macro'), 3))\n",
    "    print()\n",
    "    \n",
    "    \n",
    "    for algo_i in range(len(algo_names)):\n",
    "        algo_name = algo_names[algo_i]\n",
    "        model = models[algo_i]\n",
    "        \n",
    "        # fetching classwise information from the confusion matrix\n",
    "        metrics = {f'tp_{i}': confusion_matrix(y_true, model.predict(X))[i, i] for i in range(0, 5)}\n",
    "        metrics.update({f'fp_{i}': sum([confusion_matrix(y_true, model.predict(X))[j, i]  for j in range(0, 5) if j!= i]) for i in range(0, 5)})\n",
    "        metrics.update({f'fn_{i}': sum([confusion_matrix(y_true, model.predict(X))[i, j]  for j in range(0, 5) if j!= i]) for i in range(0, 5)})\n",
    "        metrics.update({f'tn_{i}': sum([confusion_matrix(y_true, model.predict(X))[j, k]  for j in range(0, 5) for k in range(0, 5)  if j!= i and k!= i]) for i in range(0, 5)})\n",
    "\n",
    "        # the specificity scores for each class\n",
    "        # specificity = TN / (TN + FP)\n",
    "        specificity = [round(metrics[f\"tn_{i}\"] / (metrics[f\"tn_{i}\"] + metrics[f\"fp_{i}\"]), 3) for i in range(0, 5)]\n",
    "        print(\"Classwise specificity of \", algo_name, \": \", specificity) \n",
    "        \n",
    "        # the fpr for each class\n",
    "        # false_positive_rate = FP / (TN + FP)\n",
    "        fpr = [round(metrics[f\"fp_{i}\"] / (metrics[f\"tn_{i}\"] + metrics[f\"fp_{i}\"]), 3) for i in range(0, 5)]\n",
    "        print(\"Classwise FPR of \", algo_name, \": \", fpr) \n",
    "        "
   ]
  },
  {
   "cell_type": "code",
   "execution_count": 23,
   "id": "90fff5fd",
   "metadata": {},
   "outputs": [
    {
     "name": "stdout",
     "output_type": "stream",
     "text": [
      "Accuracy of  LR  :  0.869;     Classification Error of  LR  :  0.131\n",
      "Accuracy of  DT  :  0.869;     Classification Error of  DT  :  0.131\n",
      "Accuracy of  RF  :  0.975;     Classification Error of  RF  :  0.025\n",
      "Accuracy of  GNB :  0.994;     Classification Error of  GNB :  0.006\n",
      "\n",
      "Classwise precision of  LR  :  [0.71794872 0.88235294 0.96551724 0.95       0.89090909]\n",
      "Classwise precision of  DT  :  [1.         0.         0.93548387 0.51351351 0.98387097]\n",
      "Classwise precision of  RF  :  [1.         1.         0.93548387 1.         0.96825397]\n",
      "Classwise precision of  GNB :  [1.         1.         0.96666667 1.         1.        ]\n",
      "\n",
      "Weighted precision of  LR  :  0.877\n",
      "Weighted precision of  DT  :  0.812\n",
      "Weighted precision of  RF  :  0.976\n",
      "Weighted precision of  GNB :  0.994\n",
      "\n",
      "Macro precision of  LR  :  0.881\n",
      "Macro precision of  DT  :  0.687\n",
      "Macro precision of  RF  :  0.981\n",
      "Macro precision of  GNB :  0.993\n",
      "\n",
      "Micro precision of  LR  :  0.869\n",
      "Micro precision of  DT  :  0.869\n",
      "Micro precision of  RF  :  0.975\n",
      "Micro precision of  GNB :  0.994\n",
      "\n",
      "Classwise recall of  LR  :  [0.90322581 0.83333333 0.96551724 1.         0.77777778]\n",
      "Classwise recall of  DT  :  [0.96774194 0.         1.         1.         0.96825397]\n",
      "Classwise recall of  RF  :  [1.         0.94444444 1.         0.94736842 0.96825397]\n",
      "Classwise recall of  GNB :  [1.         1.         1.         1.         0.98412698]\n",
      "\n",
      "Weighted recall of  LR  :  0.869\n",
      "Weighted recall of  DT  :  0.869\n",
      "Weighted recall of  RF  :  0.975\n",
      "Weighted recall of  GNB :  0.994\n",
      "\n",
      "Macro recall of  LR  :  0.896\n",
      "Macro recall of  DT  :  0.787\n",
      "Macro recall of  RF  :  0.972\n",
      "Macro recall of  GNB :  0.997\n",
      "\n",
      "Micro recall of  LR  :  0.869\n",
      "Micro recall of  DT  :  0.869\n",
      "Micro recall of  RF  :  0.975\n",
      "Micro recall of  GNB :  0.994\n",
      "\n",
      "(OVR) Classwise AUC of  LR  :  [0.98324581 0.99295775 0.99973677 1.         0.97038128]\n",
      "(OVR) Classwise AUC of  DT  :  [0.99237309 0.93309859 0.99236641 0.93617021 0.98993618]\n",
      "(OVR) Classwise AUC of  RF  :  [1.         0.99960876 0.99631482 1.         0.99590902]\n",
      "(OVR) Classwise AUC of  GNB :  [1.         1.         1.         1.         0.99983636]\n",
      "\n",
      "(OVR) Weighted AUC of  LR  :  0.984\n",
      "(OVR) Weighted AUC of  DT  :  0.978\n",
      "(OVR) Weighted AUC of  RF  :  0.998\n",
      "(OVR) Weighted AUC of  GNB :  1.0\n",
      "\n",
      "(OVR) Macro AUC of  LR  :  0.989\n",
      "(OVR) Macro AUC of  DT  :  0.969\n",
      "(OVR) Macro AUC of  RF  :  0.998\n",
      "(OVR) Macro AUC of  GNB :  1.0\n",
      "\n",
      "(OVO) Weighted AUC of  LR  :  0.988\n",
      "(OVO) Weighted AUC of  DT  :  0.966\n",
      "(OVO) Weighted AUC of  RF  :  0.998\n",
      "(OVO) Weighted AUC of  GNB :  1.0\n",
      "\n",
      "(OVO) Macro AUC of  LR  :  0.991\n",
      "(OVO) Macro AUC of  DT  :  0.947\n",
      "(OVO) Macro AUC of  RF  :  0.998\n",
      "(OVO) Macro AUC of  GNB :  1.0\n",
      "\n",
      "Classwise specificity of  LR  :  [0.915, 0.986, 0.992, 0.993, 0.938]\n",
      "Classwise FPR of  LR  :  [0.085, 0.014, 0.008, 0.007, 0.062]\n",
      "Classwise specificity of  DT  :  [1.0, 1.0, 0.985, 0.872, 0.99]\n",
      "Classwise FPR of  DT  :  [0.0, 0.0, 0.015, 0.128, 0.01]\n",
      "Classwise specificity of  RF  :  [1.0, 1.0, 0.985, 1.0, 0.979]\n",
      "Classwise FPR of  RF  :  [0.0, 0.0, 0.015, 0.0, 0.021]\n",
      "Classwise specificity of  GNB :  [1.0, 1.0, 0.992, 1.0, 1.0]\n",
      "Classwise FPR of  GNB :  [0.0, 0.0, 0.008, 0.0, 0.0]\n"
     ]
    }
   ],
   "source": [
    "# Checking the performance on the training data\n",
    "model_evaluation(y_true=y_train, X=X_train)"
   ]
  },
  {
   "cell_type": "code",
   "execution_count": 24,
   "id": "28e37541",
   "metadata": {},
   "outputs": [
    {
     "name": "stdout",
     "output_type": "stream",
     "text": [
      "Accuracy of  LR  :  0.825;     Classification Error of  LR  :  0.175\n",
      "Accuracy of  DT  :  0.9;     Classification Error of  DT  :  0.1\n",
      "Accuracy of  RF  :  1.0;     Classification Error of  RF  :  0.0\n",
      "Accuracy of  GNB :  1.0;     Classification Error of  GNB :  0.0\n",
      "\n",
      "Classwise precision of  LR  :  [0.66666667 0.75       1.         1.         0.8       ]\n",
      "Classwise precision of  DT  :  [1.         0.         1.         0.55555556 1.        ]\n",
      "Classwise precision of  RF  :  [1. 1. 1. 1. 1.]\n",
      "Classwise precision of  GNB :  [1. 1. 1. 1. 1.]\n",
      "\n",
      "Weighted precision of  LR  :  0.828\n",
      "Weighted precision of  DT  :  0.844\n",
      "Weighted precision of  RF  :  1.0\n",
      "Weighted precision of  GNB :  1.0\n",
      "\n",
      "Macro precision of  LR  :  0.843\n",
      "Macro precision of  DT  :  0.711\n",
      "Macro precision of  RF  :  1.0\n",
      "Macro precision of  GNB :  1.0\n",
      "\n",
      "Micro precision of  LR  :  0.825\n",
      "Micro precision of  DT  :  0.9\n",
      "Micro precision of  RF  :  1.0\n",
      "Micro precision of  GNB :  1.0\n",
      "\n",
      "Classwise recall of  LR  :  [0.75 0.75 1.   1.   0.75]\n",
      "Classwise recall of  DT  :  [1. 0. 1. 1. 1.]\n",
      "Classwise recall of  RF  :  [1. 1. 1. 1. 1.]\n",
      "Classwise recall of  GNB :  [1. 1. 1. 1. 1.]\n",
      "\n",
      "Weighted recall of  LR  :  0.825\n",
      "Weighted recall of  DT  :  0.9\n",
      "Weighted recall of  RF  :  1.0\n",
      "Weighted recall of  GNB :  1.0\n",
      "\n",
      "Macro recall of  LR  :  0.85\n",
      "Macro recall of  DT  :  0.8\n",
      "Macro recall of  RF  :  1.0\n",
      "Macro recall of  GNB :  1.0\n",
      "\n",
      "Micro recall of  LR  :  0.825\n",
      "Micro recall of  DT  :  0.9\n",
      "Micro recall of  RF  :  1.0\n",
      "Micro recall of  GNB :  1.0\n",
      "\n",
      "(OVR) Classwise AUC of  LR  :  [0.9453125  0.99305556 1.         1.         0.93229167]\n",
      "(OVR) Classwise AUC of  DT  :  [1.         0.93055556 1.         0.94285714 1.        ]\n",
      "(OVR) Classwise AUC of  RF  :  [1. 1. 1. 1. 1.]\n",
      "(OVR) Classwise AUC of  GNB :  [1. 1. 1. 1. 1.]\n",
      "\n",
      "(OVR) Weighted AUC of  LR  :  0.961\n",
      "(OVR) Weighted AUC of  DT  :  0.986\n",
      "(OVR) Weighted AUC of  RF  :  1.0\n",
      "(OVR) Weighted AUC of  GNB :  1.0\n",
      "\n",
      "(OVR) Macro AUC of  LR  :  0.974\n",
      "(OVR) Macro AUC of  DT  :  0.975\n",
      "(OVR) Macro AUC of  RF  :  1.0\n",
      "(OVR) Macro AUC of  GNB :  1.0\n",
      "\n",
      "(OVO) Weighted AUC of  LR  :  0.972\n",
      "(OVO) Weighted AUC of  DT  :  0.972\n",
      "(OVO) Weighted AUC of  RF  :  1.0\n",
      "(OVO) Weighted AUC of  GNB :  1.0\n",
      "\n",
      "(OVO) Macro AUC of  LR  :  0.98\n",
      "(OVO) Macro AUC of  DT  :  0.95\n",
      "(OVO) Macro AUC of  RF  :  1.0\n",
      "(OVO) Macro AUC of  GNB :  1.0\n",
      "\n",
      "Classwise specificity of  LR  :  [0.906, 0.972, 1.0, 1.0, 0.875]\n",
      "Classwise FPR of  LR  :  [0.094, 0.028, 0.0, 0.0, 0.125]\n",
      "Classwise specificity of  DT  :  [1.0, 1.0, 1.0, 0.886, 1.0]\n",
      "Classwise FPR of  DT  :  [0.0, 0.0, 0.0, 0.114, 0.0]\n",
      "Classwise specificity of  RF  :  [1.0, 1.0, 1.0, 1.0, 1.0]\n",
      "Classwise FPR of  RF  :  [0.0, 0.0, 0.0, 0.0, 0.0]\n",
      "Classwise specificity of  GNB :  [1.0, 1.0, 1.0, 1.0, 1.0]\n",
      "Classwise FPR of  GNB :  [0.0, 0.0, 0.0, 0.0, 0.0]\n"
     ]
    }
   ],
   "source": [
    "# Checking the performance on the test data\n",
    "model_evaluation()"
   ]
  },
  {
   "cell_type": "markdown",
   "id": "02fcfdce",
   "metadata": {},
   "source": [
    "From the above metric values, we can see that random forest and naive bayes could be overfit. They might not generalise well on unseen data. Between logistic regression and decision trees, some of the metrics, like the classwise recall, suggest that the decision trees might overfit as well. Hence, I would go with the logistic regression model as it seems to have decent metrics with chances of being not overfit."
   ]
  },
  {
   "cell_type": "code",
   "execution_count": 25,
   "id": "85f2ad9f",
   "metadata": {},
   "outputs": [
    {
     "data": {
      "text/html": [
       "<div>\n",
       "<style scoped>\n",
       "    .dataframe tbody tr th:only-of-type {\n",
       "        vertical-align: middle;\n",
       "    }\n",
       "\n",
       "    .dataframe tbody tr th {\n",
       "        vertical-align: top;\n",
       "    }\n",
       "\n",
       "    .dataframe thead th {\n",
       "        text-align: right;\n",
       "    }\n",
       "</style>\n",
       "<table border=\"1\" class=\"dataframe\">\n",
       "  <thead>\n",
       "    <tr style=\"text-align: right;\">\n",
       "      <th></th>\n",
       "      <th>CustomerID</th>\n",
       "      <th>Genre</th>\n",
       "      <th>Age</th>\n",
       "      <th>Annual_Income_(k$)</th>\n",
       "      <th>Spending_Score</th>\n",
       "      <th>Labels</th>\n",
       "    </tr>\n",
       "  </thead>\n",
       "  <tbody>\n",
       "    <tr>\n",
       "      <th>0</th>\n",
       "      <td>1</td>\n",
       "      <td>0</td>\n",
       "      <td>19.0</td>\n",
       "      <td>15.0</td>\n",
       "      <td>39.0</td>\n",
       "      <td>3</td>\n",
       "    </tr>\n",
       "    <tr>\n",
       "      <th>1</th>\n",
       "      <td>2</td>\n",
       "      <td>0</td>\n",
       "      <td>21.0</td>\n",
       "      <td>15.0</td>\n",
       "      <td>81.0</td>\n",
       "      <td>3</td>\n",
       "    </tr>\n",
       "    <tr>\n",
       "      <th>2</th>\n",
       "      <td>3</td>\n",
       "      <td>1</td>\n",
       "      <td>20.0</td>\n",
       "      <td>16.0</td>\n",
       "      <td>6.0</td>\n",
       "      <td>1</td>\n",
       "    </tr>\n",
       "    <tr>\n",
       "      <th>3</th>\n",
       "      <td>4</td>\n",
       "      <td>1</td>\n",
       "      <td>23.0</td>\n",
       "      <td>16.0</td>\n",
       "      <td>77.0</td>\n",
       "      <td>3</td>\n",
       "    </tr>\n",
       "    <tr>\n",
       "      <th>4</th>\n",
       "      <td>5</td>\n",
       "      <td>1</td>\n",
       "      <td>31.0</td>\n",
       "      <td>17.0</td>\n",
       "      <td>40.0</td>\n",
       "      <td>1</td>\n",
       "    </tr>\n",
       "  </tbody>\n",
       "</table>\n",
       "</div>"
      ],
      "text/plain": [
       "  CustomerID  Genre   Age  Annual_Income_(k$)  Spending_Score  Labels\n",
       "0          1      0  19.0                15.0            39.0       3\n",
       "1          2      0  21.0                15.0            81.0       3\n",
       "2          3      1  20.0                16.0             6.0       1\n",
       "3          4      1  23.0                16.0            77.0       3\n",
       "4          5      1  31.0                17.0            40.0       1"
      ]
     },
     "execution_count": 25,
     "metadata": {},
     "output_type": "execute_result"
    }
   ],
   "source": [
    "df1.head()"
   ]
  },
  {
   "cell_type": "code",
   "execution_count": 26,
   "id": "d3f08190",
   "metadata": {},
   "outputs": [
    {
     "data": {
      "text/html": [
       "<div>\n",
       "<style scoped>\n",
       "    .dataframe tbody tr th:only-of-type {\n",
       "        vertical-align: middle;\n",
       "    }\n",
       "\n",
       "    .dataframe tbody tr th {\n",
       "        vertical-align: top;\n",
       "    }\n",
       "\n",
       "    .dataframe thead th {\n",
       "        text-align: right;\n",
       "    }\n",
       "</style>\n",
       "<table border=\"1\" class=\"dataframe\">\n",
       "  <thead>\n",
       "    <tr style=\"text-align: right;\">\n",
       "      <th></th>\n",
       "      <th>Genre</th>\n",
       "      <th>Age</th>\n",
       "      <th>Annual_Income_(k$)</th>\n",
       "      <th>Spending_Score</th>\n",
       "    </tr>\n",
       "  </thead>\n",
       "  <tbody>\n",
       "    <tr>\n",
       "      <th>0</th>\n",
       "      <td>0.538462</td>\n",
       "      <td>32.692308</td>\n",
       "      <td>86.538462</td>\n",
       "      <td>82.128205</td>\n",
       "    </tr>\n",
       "    <tr>\n",
       "      <th>1</th>\n",
       "      <td>0.636364</td>\n",
       "      <td>46.409091</td>\n",
       "      <td>26.818182</td>\n",
       "      <td>20.090909</td>\n",
       "    </tr>\n",
       "    <tr>\n",
       "      <th>2</th>\n",
       "      <td>0.472222</td>\n",
       "      <td>40.666667</td>\n",
       "      <td>87.750000</td>\n",
       "      <td>17.583333</td>\n",
       "    </tr>\n",
       "    <tr>\n",
       "      <th>3</th>\n",
       "      <td>0.583333</td>\n",
       "      <td>25.250000</td>\n",
       "      <td>25.833333</td>\n",
       "      <td>76.916667</td>\n",
       "    </tr>\n",
       "    <tr>\n",
       "      <th>4</th>\n",
       "      <td>0.582278</td>\n",
       "      <td>43.088608</td>\n",
       "      <td>55.291139</td>\n",
       "      <td>49.569620</td>\n",
       "    </tr>\n",
       "  </tbody>\n",
       "</table>\n",
       "</div>"
      ],
      "text/plain": [
       "      Genre        Age  Annual_Income_(k$)  Spending_Score\n",
       "0  0.538462  32.692308           86.538462       82.128205\n",
       "1  0.636364  46.409091           26.818182       20.090909\n",
       "2  0.472222  40.666667           87.750000       17.583333\n",
       "3  0.583333  25.250000           25.833333       76.916667\n",
       "4  0.582278  43.088608           55.291139       49.569620"
      ]
     },
     "execution_count": 26,
     "metadata": {},
     "output_type": "execute_result"
    }
   ],
   "source": [
    "centers = pd.DataFrame(pyCenters, columns=['Genre', 'Age', 'Annual_Income_(k$)', 'Spending_Score'])\n",
    "centers.head()"
   ]
  },
  {
   "cell_type": "code",
   "execution_count": 28,
   "id": "9b2dfee3",
   "metadata": {},
   "outputs": [
    {
     "data": {
      "image/png": "[encoded data removed]",
      "text/plain": [
       "<Figure size 1080x504 with 1 Axes>"
      ]
     },
     "metadata": {},
     "output_type": "display_data"
    }
   ],
   "source": [
    "# Visualising the clusters using two columns of the four columns used for clustering - Annual_Income_(k$) & Spending_Score\n",
    "plt.figure(figsize=(15,7))\n",
    "sns.scatterplot(df1.loc[df1.Labels == 0, 'Annual_Income_(k$)'], df1.loc[df1.Labels == 0, 'Spending_Score'], color = 'yellow', label = 'Cluster 1',s=50)\n",
    "sns.scatterplot(df1.loc[df1.Labels == 1, 'Annual_Income_(k$)'], df1.loc[df1.Labels == 1, 'Spending_Score'], color = 'blue', label = 'Cluster 2',s=50)\n",
    "sns.scatterplot(df1.loc[df1.Labels == 2, 'Annual_Income_(k$)'], df1.loc[df1.Labels == 2, 'Spending_Score'], color = 'green', label = 'Cluster 3',s=50)\n",
    "sns.scatterplot(df1.loc[df1.Labels == 3, 'Annual_Income_(k$)'], df1.loc[df1.Labels == 3, 'Spending_Score'], color = 'grey', label = 'Cluster 4',s=50)\n",
    "sns.scatterplot(df1.loc[df1.Labels == 4, 'Annual_Income_(k$)'], df1.loc[df1.Labels == 4, 'Spending_Score'], color = 'orange', label = 'Cluster 5',s=50)\n",
    "sns.scatterplot(centers.loc[:, 'Annual_Income_(k$)'], centers.loc[:, 'Spending_Score'], color = 'red', \n",
    "                label = 'Centroids',s=300,marker=',')\n",
    "plt.title('Clusters')\n",
    "plt.xlabel('Annual Income')\n",
    "plt.ylabel('Spending Score')\n",
    "plt.legend()\n",
    "plt.show()"
   ]
  },
  {
   "cell_type": "markdown",
   "id": "91f24dc2",
   "metadata": {},
   "source": [
    "From the above scatter plot (even if only two of the four columns used for clustering were used to plot it), we can see that the cluster are making sense visually. "
   ]
  }
 ],
 "metadata": {
  "kernelspec": {
   "display_name": "base",
   "language": "python",
   "name": "python3"
  },
  "language_info": {
   "codemirror_mode": {
    "name": "ipython",
    "version": 3
   },
   "file_extension": ".py",
   "mimetype": "text/x-python",
   "name": "python",
   "nbconvert_exporter": "python",
   "pygments_lexer": "ipython3",
   "version": "3.8.8 (default, Apr 13 2021, 15:08:03) [MSC v.1916 64 bit (AMD64)]"
  },
  "vscode": {
   "interpreter": {
    "hash": "452b90bea1dc56bb7abd92e2828b74e7b1bfd708fd58372070ca854e487506c8"
   }
  }
 },
 "nbformat": 4,
 "nbformat_minor": 5
}
